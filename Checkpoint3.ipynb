{
 "cells": [
  {
   "cell_type": "code",
   "execution_count": 1,
   "id": "52fe7a91",
   "metadata": {},
   "outputs": [
    {
     "name": "stdout",
     "output_type": "stream",
     "text": [
      "40320\n"
     ]
    }
   ],
   "source": [
    "my_list=[1,2,3,4,5,6,7,8]\n",
    "x = 1\n",
    "for i in range(len(my_list)):\n",
    "    x = x * my_list[i]\n",
    "    i = i + 1\n",
    "print(x)"
   ]
  },
  {
   "cell_type": "code",
   "execution_count": 2,
   "id": "1ef9fd9f",
   "metadata": {},
   "outputs": [
    {
     "name": "stdout",
     "output_type": "stream",
     "text": [
      "{'a': 400, 'b': 400, 'c': 300, 'd': 400}\n"
     ]
    }
   ],
   "source": [
    "d1 = {'a':100,'b':200,'c':300}\n",
    "d2 = {'a':300,'b':200,'d':400}\n",
    "d3={}\n",
    "for key in d1.keys():\n",
    "    if key in d2.keys():\n",
    "        d3[key] = d1[key]+d2[key]\n",
    "    else:\n",
    "        d3[key] = d1[key] \n",
    "for key in d2.keys():\n",
    "    if key not in d1.keys():\n",
    "        d3[key]= d2[key]\n",
    "print(d3)"
   ]
  },
  {
   "cell_type": "code",
   "execution_count": 3,
   "id": "8517bdc0",
   "metadata": {},
   "outputs": [
    {
     "name": "stdout",
     "output_type": "stream",
     "text": [
      "enter a number : 8\n",
      "{1: 1, 2: 4, 3: 9, 4: 16, 5: 25, 6: 36, 7: 49, 8: 64}\n"
     ]
    }
   ],
   "source": [
    "x=int(input(\"enter a number : \"))\n",
    "y={}\n",
    "for i in range(1,x+1,1):\n",
    "    y[i]= i*i\n",
    "print(y)"
   ]
  },
  {
   "cell_type": "code",
   "execution_count": 2,
   "id": "a541c74f",
   "metadata": {},
   "outputs": [
    {
     "name": "stdout",
     "output_type": "stream",
     "text": [
      "enter a number4\n",
      "enter the first number :7\n",
      "enter the second number :8\n",
      "enter the first number :5\n",
      "enter the second number :6\n",
      "enter the first number :3\n",
      "enter the second number :4\n",
      "enter the first number :1\n",
      "enter the second number :2\n",
      "[(7, 8), (5, 6), (3, 4), (1, 2)]\n",
      "the sorted list is :  [(1, 2), (3, 4), (5, 6), (7, 8)]\n"
     ]
    }
   ],
   "source": [
    "x = int(input(\"enter a number\"))\n",
    "y = []\n",
    "for i in range(x):\n",
    "    a = int(input(\"enter the first number :\"))\n",
    "    b = int(input(\"enter the second number :\"))\n",
    "    k = (a,b)    #to put the num inside a tupl\n",
    "    y.append(k)  #to insert the tupl in the list\n",
    "print(y)\n",
    "\n",
    "y.sort(key=lambda x:x[1])\n",
    "print(\"the sorted list is : \",y)"
   ]
  },
  {
   "cell_type": "code",
   "execution_count": null,
   "id": "93ac1342",
   "metadata": {},
   "outputs": [],
   "source": []
  }
 ],
 "metadata": {
  "kernelspec": {
   "display_name": "Python 3 (ipykernel)",
   "language": "python",
   "name": "python3"
  },
  "language_info": {
   "codemirror_mode": {
    "name": "ipython",
    "version": 3
   },
   "file_extension": ".py",
   "mimetype": "text/x-python",
   "name": "python",
   "nbconvert_exporter": "python",
   "pygments_lexer": "ipython3",
   "version": "3.9.7"
  }
 },
 "nbformat": 4,
 "nbformat_minor": 5
}
