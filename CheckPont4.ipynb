{
 "cells": [
  {
   "cell_type": "code",
   "execution_count": 1,
   "id": "28468d1f",
   "metadata": {},
   "outputs": [
    {
     "name": "stdout",
     "output_type": "stream",
     "text": [
      "enter number 12\n",
      "enter number 13\n",
      "enter number 14\n",
      "14\n"
     ]
    }
   ],
   "source": [
    "def max_number(a, b, c):\n",
    "    if a > b and a > c:\n",
    "        return (a)\n",
    "    elif b > a and b > c:\n",
    "        return (b)\n",
    "    elif c > b and c > a:\n",
    "        return (c)\n",
    "    else:\n",
    "        return (a, b, c)\n",
    "\n",
    "a = int(input(\"enter number \"))\n",
    "b = int(input(\"enter number \"))\n",
    "c = int(input(\"enter number \"))\n",
    "\n",
    "max = max_number(a, b, c)\n",
    "print(max)\n"
   ]
  },
  {
   "cell_type": "code",
   "execution_count": 3,
   "id": "a317a5a4",
   "metadata": {},
   "outputs": [
    {
     "name": "stdout",
     "output_type": "stream",
     "text": [
      "enter number12\n",
      "enter number13\n",
      "(25, -1)\n"
     ]
    }
   ],
   "source": [
    "def calculation(a,b):\n",
    "    return(a+b,a-b)\n",
    "\n",
    "a = int(input(\"enter number\"))\n",
    "b = int(input(\"enter number\"))\n",
    "operation = calculation(a,b)\n",
    "print(operation)"
   ]
  },
  {
   "cell_type": "code",
   "execution_count": 1,
   "id": "bed3b103",
   "metadata": {},
   "outputs": [
    {
     "name": "stdout",
     "output_type": "stream",
     "text": [
      "enter a number :6\n",
      "enter a number :  1\n",
      "enter a number :  2\n",
      "enter a number :  3\n",
      "enter a number :  4\n",
      "enter a number :  5\n",
      "enter a number :  6\n",
      "[1, 2, 3, 4, 5, 6]\n",
      "21\n",
      "720\n",
      "(9, 48)\n"
     ]
    }
   ],
   "source": [
    "elements_N = int(input(\"enter a number :\"))   #number of elements of the list\n",
    "first_list =[]\n",
    "i=0\n",
    "while i < elements_N:\n",
    "    x=int(input(\"enter a number :  \"))\n",
    "    first_list.append(x)\n",
    "    i+=1\n",
    "print(first_list)\n",
    "\n",
    "def summ(list):\n",
    "    sum = 0\n",
    "    for i in list:\n",
    "        sum = sum + i\n",
    "    return(sum)\n",
    "s = summ(first_list)\n",
    "print(s)\n",
    "\n",
    "def multipl(list):\n",
    "    mult = 1\n",
    "    for i in list:\n",
    "        mult = mult*i\n",
    "    return(mult)\n",
    "m = multipl(first_list)\n",
    "print(m)\n",
    "\n",
    "def somMul(list):\n",
    "    even_list = []\n",
    "    odd_list = []\n",
    "    for i in range(len(list)):\n",
    "        if i % 2 == 0:\n",
    "            even_list.append(list[i])\n",
    "        else:\n",
    "            odd_list.append(list[i])\n",
    "    someEven = summ(even_list)\n",
    "    multOdd = multipl(odd_list)\n",
    "    return(someEven , multOdd)\n",
    "v = somMul(first_list)\n",
    "print(v)"
   ]
  },
  {
   "cell_type": "code",
   "execution_count": 2,
   "id": "4e38b811",
   "metadata": {},
   "outputs": [
    {
     "name": "stdout",
     "output_type": "stream",
     "text": [
      " enter colors : red-white-green-yalow\n",
      "['red', 'white', 'green', 'yalow']\n",
      "['green', 'red', 'white', 'yalow']\n",
      "green-red-white-yalow\n"
     ]
    }
   ],
   "source": [
    "x = input(\" enter colors : \")\n",
    "y = x.split(\"-\")\n",
    "print(y)\n",
    "y.sort()\n",
    "print(y)\n",
    "j = \"-\".join(y)\n",
    "print(j)"
   ]
  },
  {
   "cell_type": "code",
   "execution_count": 1,
   "id": "0fdd1f2c",
   "metadata": {},
   "outputs": [
    {
     "name": "stdout",
     "output_type": "stream",
     "text": [
      "enter number100,150,180\n",
      "18,22,24\n"
     ]
    }
   ],
   "source": [
    "import math\n",
    "\n",
    "Number = input(\"enter number\")   #Number with comma\n",
    "y = Number.split(',')\n",
    "\n",
    "i=0\n",
    "while i < 3:\n",
    "    y[i] = int(y[i])\n",
    "    i = i+1\n",
    "\n",
    "first_function = lambda data: math.sqrt((2 * 50 * data) / 30)\n",
    "list_one = list(map(first_function, y))\n",
    "\n",
    "j=0\n",
    "while j < 3:\n",
    "    list_one[j] = int(list_one[j])\n",
    "    j = j+1\n",
    "\n",
    "k =0\n",
    "while k < 3:\n",
    "    list_one[k] = str(list_one[k])\n",
    "    k = k+1\n",
    "\n",
    "k = \",\".join(list_one)    #change from list to string\n",
    "print(k)"
   ]
  },
  {
   "cell_type": "code",
   "execution_count": null,
   "id": "658c1b26",
   "metadata": {},
   "outputs": [],
   "source": []
  }
 ],
 "metadata": {
  "kernelspec": {
   "display_name": "Python 3 (ipykernel)",
   "language": "python",
   "name": "python3"
  },
  "language_info": {
   "codemirror_mode": {
    "name": "ipython",
    "version": 3
   },
   "file_extension": ".py",
   "mimetype": "text/x-python",
   "name": "python",
   "nbconvert_exporter": "python",
   "pygments_lexer": "ipython3",
   "version": "3.9.7"
  }
 },
 "nbformat": 4,
 "nbformat_minor": 5
}
