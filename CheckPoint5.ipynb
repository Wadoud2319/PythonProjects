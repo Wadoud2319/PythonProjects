{
 "cells": [
  {
   "cell_type": "code",
   "execution_count": 1,
   "id": "2d4e8710",
   "metadata": {},
   "outputs": [
    {
     "name": "stdout",
     "output_type": "stream",
     "text": [
      "1 and 2 and 3\n"
     ]
    }
   ],
   "source": [
    "class Point3D:\n",
    "     def __init__(self,x,y,z):\n",
    "        self.x = x\n",
    "        self.y = y\n",
    "        self.z = z\n",
    "\n",
    "my_point= Point3D(1,2,3)\n",
    "\n",
    "print(\"{} and {} and {}\".format(my_point.x,my_point.y,my_point.z))"
   ]
  },
  {
   "cell_type": "code",
   "execution_count": 3,
   "id": "9150ad78",
   "metadata": {},
   "outputs": [
    {
     "name": "stdout",
     "output_type": "stream",
     "text": [
      " the era is 12 and the peremiter is 14 \n"
     ]
    }
   ],
   "source": [
    "class Rectangle:\n",
    "\n",
    "    def __init__(self,lenght,width):\n",
    "        self.lenght = lenght\n",
    "        self.width = width\n",
    "\n",
    "    def era(self):\n",
    "        return \"{}\".format(self.lenght*self.width)\n",
    "\n",
    "    def peremiter(self):\n",
    "        return \"{}\".format((self.lenght + self.width)*2)\n",
    "\n",
    "My_rectangle = Rectangle(4,3)\n",
    "\n",
    "print(\" the era is {} and the peremiter is {} \".format(My_rectangle.era(),My_rectangle.peremiter()))"
   ]
  },
  {
   "cell_type": "code",
   "execution_count": 4,
   "id": "87e8b212",
   "metadata": {},
   "outputs": [
    {
     "name": "stdout",
     "output_type": "stream",
     "text": [
      "the erea is 28.274333882308138 and the peremiter is 18.84955592153876 \n",
      "A dont belong\n",
      "None\n"
     ]
    }
   ],
   "source": [
    "import math\n",
    "\n",
    "class Circle:\n",
    "    def __init__(self,ox,oy,r):\n",
    "        self.ox = ox\n",
    "        self.oy = oy\n",
    "        self.r = r\n",
    "\n",
    "    def erea(self):\n",
    "        return \"{}\".format(self.r*self.r*math.pi)\n",
    "    def peremiter(self):\n",
    "        return  \"{}\".format(self.r*2*math.pi)\n",
    "\n",
    "    def check(self,a1,a2):\n",
    "        if (((a1 - self.ox)**2 + (a2 - self.oy)**2 ) <= self.r**2):\n",
    "            print(\"A belong to \")\n",
    "        else:\n",
    "            print(\"A dont belong\")\n",
    "\n",
    "My_cercl = Circle(0,0,3)\n",
    "\n",
    "print(\"the erea is {} and the peremiter is {} \".format(My_cercl.erea(),My_cercl.peremiter()))\n",
    "print((My_cercl.check(2,3)))"
   ]
  },
  {
   "cell_type": "code",
   "execution_count": 1,
   "id": "9b15d43a",
   "metadata": {},
   "outputs": [
    {
     "name": "stdout",
     "output_type": "stream",
     "text": [
      "100\n",
      "10\n",
      "5\n",
      "withdraw chose 1 \n",
      "deposit chose 2 \n",
      "2\n",
      "your new amount is  95\n"
     ]
    }
   ],
   "source": [
    "x = int(input())\n",
    "y = int(input())\n",
    "z = int(input())\n",
    "\n",
    "class Bank:\n",
    "    def __init__(self,balance,deposit,withdraw):\n",
    "        self.balance = balance\n",
    "        self.deposit = deposit\n",
    "        self.withdraw = withdraw\n",
    "    def Deposit(self):\n",
    "        return \"{}\".format(self.balance + self.deposit)\n",
    "    def Withdraw(self):\n",
    "        return \"{}\".format(self.balance - self.withdraw)\n",
    "my_bank = Bank(x,y,z)\n",
    "\n",
    "k = int(input(\"withdraw chose 1 \\ndeposit chose 2 \\n\"))\n",
    "if k == 1:\n",
    "    print(\"your new amount is \", my_bank.Deposit())\n",
    "else :\n",
    "    print(\"your new amount is \", my_bank.Withdraw())"
   ]
  },
  {
   "cell_type": "code",
   "execution_count": null,
   "id": "01d56e94",
   "metadata": {},
   "outputs": [],
   "source": []
  }
 ],
 "metadata": {
  "kernelspec": {
   "display_name": "Python 3 (ipykernel)",
   "language": "python",
   "name": "python3"
  },
  "language_info": {
   "codemirror_mode": {
    "name": "ipython",
    "version": 3
   },
   "file_extension": ".py",
   "mimetype": "text/x-python",
   "name": "python",
   "nbconvert_exporter": "python",
   "pygments_lexer": "ipython3",
   "version": "3.9.7"
  }
 },
 "nbformat": 4,
 "nbformat_minor": 5
}
