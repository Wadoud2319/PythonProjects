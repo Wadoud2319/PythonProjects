{
 "cells": [
  {
   "cell_type": "code",
   "execution_count": 9,
   "id": "47573e66",
   "metadata": {},
   "outputs": [
    {
     "name": "stdout",
     "output_type": "stream",
     "text": [
      "Enter your name and surname\n",
      " Please enter your name:Wadoud\n",
      " please enter your surname: Zakour\n",
      "Zakour  Wadoud\n"
     ]
    }
   ],
   "source": [
    "print(\"Enter your name and surname\")\n",
    "x=input(\" Please enter your name:\")\n",
    "y=input(\" please enter your surname: \")\n",
    "print(y+\" \",x)"
   ]
  },
  {
   "cell_type": "code",
   "execution_count": 22,
   "id": "f62127e7",
   "metadata": {},
   "outputs": [
    {
     "name": "stdout",
     "output_type": "stream",
     "text": [
      "Enter an n integer: \n",
      "n = 5\n",
      "5 + 55 + 555 = 615\n"
     ]
    }
   ],
   "source": [
    "print(\"Enter an n integer: \")\n",
    "n= int(input(\"n = \"))\n",
    "print(n ,\"+\",n+n*10,\"+\",n+n*10+n*100,\"=\",n + (n+n*10)+ (n+n*10+n*100))"
   ]
  },
  {
   "cell_type": "code",
   "execution_count": 28,
   "id": "7da5d021",
   "metadata": {},
   "outputs": [
    {
     "name": "stdout",
     "output_type": "stream",
     "text": [
      "enter a number: \n",
      "2\n",
      "2 is even\n"
     ]
    }
   ],
   "source": [
    "print(\"enter a number: \")\n",
    "x= int(input())\n",
    "if x%2 == 0 :\n",
    "    print(x ,\"is even\")\n",
    "else :\n",
    "    print(x, \"is odd\")"
   ]
  },
  {
   "cell_type": "code",
   "execution_count": 1,
   "id": "be343193",
   "metadata": {},
   "outputs": [
    {
     "name": "stdout",
     "output_type": "stream",
     "text": [
      "2002 /7 = 286.0\n",
      "2009 /7 = 287.0\n",
      "2016 /7 = 288.0\n",
      "2023 /7 = 289.0\n",
      "2037 /7 = 291.0\n",
      "2044 /7 = 292.0\n",
      "2051 /7 = 293.0\n",
      "2058 /7 = 294.0\n",
      "2072 /7 = 296.0\n",
      "2079 /7 = 297.0\n",
      "2086 /7 = 298.0\n",
      "2093 /7 = 299.0\n",
      "2107 /7 = 301.0\n",
      "2114 /7 = 302.0\n",
      "2121 /7 = 303.0\n",
      "2128 /7 = 304.0\n",
      "2142 /7 = 306.0\n",
      "2149 /7 = 307.0\n",
      "2156 /7 = 308.0\n",
      "2163 /7 = 309.0\n",
      "2177 /7 = 311.0\n",
      "2184 /7 = 312.0\n",
      "2191 /7 = 313.0\n",
      "2198 /7 = 314.0\n",
      "2212 /7 = 316.0\n",
      "2219 /7 = 317.0\n",
      "2226 /7 = 318.0\n",
      "2233 /7 = 319.0\n",
      "2247 /7 = 321.0\n",
      "2254 /7 = 322.0\n",
      "2261 /7 = 323.0\n",
      "2268 /7 = 324.0\n",
      "2282 /7 = 326.0\n",
      "2289 /7 = 327.0\n",
      "2296 /7 = 328.0\n",
      "2303 /7 = 329.0\n",
      "2317 /7 = 331.0\n",
      "2324 /7 = 332.0\n",
      "2331 /7 = 333.0\n",
      "2338 /7 = 334.0\n",
      "2352 /7 = 336.0\n",
      "2359 /7 = 337.0\n",
      "2366 /7 = 338.0\n",
      "2373 /7 = 339.0\n",
      "2387 /7 = 341.0\n",
      "2394 /7 = 342.0\n",
      "2401 /7 = 343.0\n",
      "2408 /7 = 344.0\n",
      "2422 /7 = 346.0\n",
      "2429 /7 = 347.0\n",
      "2436 /7 = 348.0\n",
      "2443 /7 = 349.0\n",
      "2457 /7 = 351.0\n",
      "2464 /7 = 352.0\n",
      "2471 /7 = 353.0\n",
      "2478 /7 = 354.0\n",
      "2492 /7 = 356.0\n",
      "2499 /7 = 357.0\n",
      "2506 /7 = 358.0\n",
      "2513 /7 = 359.0\n",
      "2527 /7 = 361.0\n",
      "2534 /7 = 362.0\n",
      "2541 /7 = 363.0\n",
      "2548 /7 = 364.0\n",
      "2562 /7 = 366.0\n",
      "2569 /7 = 367.0\n",
      "2576 /7 = 368.0\n",
      "2583 /7 = 369.0\n",
      "2597 /7 = 371.0\n",
      "2604 /7 = 372.0\n",
      "2611 /7 = 373.0\n",
      "2618 /7 = 374.0\n",
      "2632 /7 = 376.0\n",
      "2639 /7 = 377.0\n",
      "2646 /7 = 378.0\n",
      "2653 /7 = 379.0\n",
      "2667 /7 = 381.0\n",
      "2674 /7 = 382.0\n",
      "2681 /7 = 383.0\n",
      "2688 /7 = 384.0\n",
      "2702 /7 = 386.0\n",
      "2709 /7 = 387.0\n",
      "2716 /7 = 388.0\n",
      "2723 /7 = 389.0\n",
      "2737 /7 = 391.0\n",
      "2744 /7 = 392.0\n",
      "2751 /7 = 393.0\n",
      "2758 /7 = 394.0\n",
      "2772 /7 = 396.0\n",
      "2779 /7 = 397.0\n",
      "2786 /7 = 398.0\n",
      "2793 /7 = 399.0\n",
      "2807 /7 = 401.0\n",
      "2814 /7 = 402.0\n",
      "2821 /7 = 403.0\n",
      "2828 /7 = 404.0\n",
      "2842 /7 = 406.0\n",
      "2849 /7 = 407.0\n",
      "2856 /7 = 408.0\n",
      "2863 /7 = 409.0\n",
      "2877 /7 = 411.0\n",
      "2884 /7 = 412.0\n",
      "2891 /7 = 413.0\n",
      "2898 /7 = 414.0\n",
      "2912 /7 = 416.0\n",
      "2919 /7 = 417.0\n",
      "2926 /7 = 418.0\n",
      "2933 /7 = 419.0\n",
      "2947 /7 = 421.0\n",
      "2954 /7 = 422.0\n",
      "2961 /7 = 423.0\n",
      "2968 /7 = 424.0\n",
      "2982 /7 = 426.0\n",
      "2989 /7 = 427.0\n",
      "2996 /7 = 428.0\n",
      "3003 /7 = 429.0\n",
      "3017 /7 = 431.0\n",
      "3024 /7 = 432.0\n",
      "3031 /7 = 433.0\n",
      "3038 /7 = 434.0\n",
      "3052 /7 = 436.0\n",
      "3059 /7 = 437.0\n",
      "3066 /7 = 438.0\n",
      "3073 /7 = 439.0\n",
      "3087 /7 = 441.0\n",
      "3094 /7 = 442.0\n",
      "3101 /7 = 443.0\n",
      "3108 /7 = 444.0\n",
      "3122 /7 = 446.0\n",
      "3129 /7 = 447.0\n",
      "3136 /7 = 448.0\n",
      "3143 /7 = 449.0\n",
      "3157 /7 = 451.0\n",
      "3164 /7 = 452.0\n",
      "3171 /7 = 453.0\n",
      "3178 /7 = 454.0\n",
      "3192 /7 = 456.0\n",
      "3199 /7 = 457.0\n"
     ]
    }
   ],
   "source": [
    "for i in range(2000,3200,1) :\n",
    "    if i%7 == 0 and i%5 !=0:\n",
    "        print(i,\"/7 =\",i/7)\n",
    "    else :\n",
    "        i = i+1"
   ]
  },
  {
   "cell_type": "code",
   "execution_count": 2,
   "id": "c25fe2ea",
   "metadata": {},
   "outputs": [
    {
     "name": "stdout",
     "output_type": "stream",
     "text": [
      "enter a number4\n",
      "4 ! = 24\n"
     ]
    }
   ],
   "source": [
    "x = int(input(\"enter a number\"))\n",
    "FactX = 1\n",
    "m = x\n",
    "while x != 0 :\n",
    "    FactX = FactX * x\n",
    "    x = x-1\n",
    "print(m,\"! =\",FactX)"
   ]
  },
  {
   "cell_type": "code",
   "execution_count": 1,
   "id": "aad9bd9d",
   "metadata": {},
   "outputs": [
    {
     "name": "stdout",
     "output_type": "stream",
     "text": [
      "enter a string: hello team\n",
      "your result is :  hlota\n"
     ]
    }
   ],
   "source": [
    "def mystring(string):\n",
    "    result = \"\"\n",
    "    for i in range(len(string)):\n",
    "        if i % 2 == 0 or i == 0:\n",
    "            result = result + string[i]\n",
    "    return result\n",
    "\n",
    "string = input(\"enter a string: \")\n",
    "print(\"your result is : \", mystring(string))"
   ]
  },
  {
   "cell_type": "code",
   "execution_count": 2,
   "id": "f7d3135a",
   "metadata": {},
   "outputs": [
    {
     "name": "stdout",
     "output_type": "stream",
     "text": [
      "enter a price : 1000\n",
      "your final price is : 500.0\n"
     ]
    }
   ],
   "source": [
    "price = int(input(\"enter a price : \"))\n",
    "if price < 200 :\n",
    "    final_price = price-(price*10/100)\n",
    "elif  price >= 200 and price < 500:\n",
    "    final_price = price-(price*30/100)\n",
    "else:\n",
    "    final_price = price-(price*50/100)\n",
    "\n",
    "print(\"your final price is :\", final_price)"
   ]
  },
  {
   "cell_type": "code",
   "execution_count": null,
   "id": "bd9b5736",
   "metadata": {},
   "outputs": [],
   "source": []
  }
 ],
 "metadata": {
  "kernelspec": {
   "display_name": "Python 3 (ipykernel)",
   "language": "python",
   "name": "python3"
  },
  "language_info": {
   "codemirror_mode": {
    "name": "ipython",
    "version": 3
   },
   "file_extension": ".py",
   "mimetype": "text/x-python",
   "name": "python",
   "nbconvert_exporter": "python",
   "pygments_lexer": "ipython3",
   "version": "3.9.7"
  }
 },
 "nbformat": 4,
 "nbformat_minor": 5
}
