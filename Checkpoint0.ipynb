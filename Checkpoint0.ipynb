{
 "cells": [
  {
   "cell_type": "markdown",
   "id": "42ddcb6e",
   "metadata": {},
   "source": [
    "# first projrct"
   ]
  },
  {
   "cell_type": "code",
   "execution_count": 1,
   "id": "9f3d91b7",
   "metadata": {},
   "outputs": [
    {
     "name": "stdout",
     "output_type": "stream",
     "text": [
      "welcome to puthon world! Let's start coding\n"
     ]
    }
   ],
   "source": [
    "print(\"welcome to puthon world! Let's start coding\")"
   ]
  },
  {
   "cell_type": "markdown",
   "id": "75436f69",
   "metadata": {},
   "source": [
    "the extantion is .ipynb"
   ]
  }
 ],
 "metadata": {
  "kernelspec": {
   "display_name": "Python 3 (ipykernel)",
   "language": "python",
   "name": "python3"
  },
  "language_info": {
   "codemirror_mode": {
    "name": "ipython",
    "version": 3
   },
   "file_extension": ".py",
   "mimetype": "text/x-python",
   "name": "python",
   "nbconvert_exporter": "python",
   "pygments_lexer": "ipython3",
   "version": "3.9.7"
  }
 },
 "nbformat": 4,
 "nbformat_minor": 5
}
